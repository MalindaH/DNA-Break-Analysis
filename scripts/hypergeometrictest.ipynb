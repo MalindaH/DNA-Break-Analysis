{
 "cells": [
  {
   "cell_type": "code",
   "execution_count": 9,
   "metadata": {},
   "outputs": [
    {
     "name": "stderr",
     "output_type": "stream",
     "text": [
      "UsageError: %%writefile is a cell magic, but the cell body is empty.\n"
     ]
    }
   ],
   "source": []
  },
  {
   "cell_type": "code",
   "execution_count": null,
   "metadata": {},
   "outputs": [],
   "source": [
    "# %load hypergeometrictest.py\n",
    "import sys\n",
    "import scipy.stats as stats\n",
    "import matplotlib.pyplot as plt\n",
    "import numpy as np\n",
    "\n",
    "# Usage: python hypergeometrictest.py 422332 337059 20 12\n",
    "# input (N, k, m, x)\n",
    "# N = total number in population = sys.argv[1] = number of reads in the given \n",
    "# chromosome for both treated and non-treated sample\n",
    "# k = total number with condition in population = sys.argv[2] = number of reads in the \n",
    "# given chromosome for the treated sample\n",
    "# m = number in subset = sys.argv[3] = number of reads in the given window for treated \n",
    "# and non-treated samples\n",
    "# x = number with condition in subset = sys.argv[4] = number of reads in a given \n",
    "# window for the treated sample\n",
    "print ('p-value <= ' + sys.argv[4] + ': ' + str(stats.hypergeom.cdf(int(sys.argv[4]) ,int(sys.argv[1]),int(sys.argv[2]),int(sys.argv[3]))))\n",
    "print ('p-value >= ' + sys.argv[4] + ': ' + str(stats.hypergeom.sf(int(sys.argv[4]) - 1,int(sys.argv[1]),int(sys.argv[2]),int(sys.argv[3]))))\n",
    "print()\n",
    "\n",
    "[N, k, m, x] = [int(sys.argv[1]), int(sys.argv[2]), int(sys.argv[3]), int(sys.argv[4])]\n",
    "pval = stats.hypergeom.pmf(x, N, m, k)\n",
    "print(pval)\n",
    "\n",
    "rv = stats.hypergeom(N, m, k)\n",
    "xrange = np.arange(0, m+1)\n",
    "pmf_dogs = rv.pmf(xrange)\n",
    "fig = plt.figure()\n",
    "ax = fig.add_subplot(111)\n",
    "ax.plot(xrange, pmf_dogs, 'bo')\n",
    "ax.vlines(xrange, 0, pmf_dogs, lw=2)\n",
    "ax.set_xlabel('# of dogs in our group of chosen animals')\n",
    "ax.set_ylabel('hypergeom PMF')\n",
    "plt.show()"
   ]
  },
  {
   "cell_type": "code",
   "execution_count": 11,
   "metadata": {},
   "outputs": [
    {
     "name": "stdout",
     "output_type": "stream",
     "text": [
      "0.023233709658840158\n"
     ]
    }
   ],
   "source": [
    "%run hypergeometrictest.py 422332 337059 20 12"
   ]
  },
  {
   "cell_type": "code",
   "execution_count": null,
   "metadata": {},
   "outputs": [],
   "source": []
  }
 ],
 "metadata": {
  "kernelspec": {
   "display_name": "Python 3",
   "language": "python",
   "name": "python3"
  },
  "language_info": {
   "codemirror_mode": {
    "name": "ipython",
    "version": 3
   },
   "file_extension": ".py",
   "mimetype": "text/x-python",
   "name": "python",
   "nbconvert_exporter": "python",
   "pygments_lexer": "ipython3",
   "version": "3.7.4"
  }
 },
 "nbformat": 4,
 "nbformat_minor": 4
}
